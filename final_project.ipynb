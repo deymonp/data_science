{
 "cells": [
  {
   "cell_type": "markdown",
   "id": "41e27666-c2e6-48d8-ab27-31185ab2b918",
   "metadata": {},
   "source": [
    "# Title of the Notebook\n",
    "## Final project"
   ]
  },
  {
   "cell_type": "markdown",
   "id": "426aee8e-725b-4a40-b49d-41dd99927e65",
   "metadata": {},
   "source": [
    "## Introduction\n",
    "This is an introduction to my final project in this module. I'm excited, that I'm progressing very quickly. I'm happy I can share my knowledge with you."
   ]
  },
  {
   "cell_type": "markdown",
   "id": "064ea92b-786f-4408-bae6-33dce6037e51",
   "metadata": {},
   "source": [
    "### Programming languages: \n",
    "\n",
    "- Python\n",
    "- R\n",
    "- SQL\n",
    "- Julia\n",
    "- Scala\n",
    "- MATLAB\n"
   ]
  },
  {
   "cell_type": "markdown",
   "id": "3fa253ee-7fe9-44cd-8c2c-6001e2b2d4be",
   "metadata": {},
   "source": [
    "### Data science libraries\n",
    "\n",
    "- NumPy\n",
    "- pandas\n",
    "- Matplotlib\n",
    "- Seaborn\n",
    "- Scikit-learn\n",
    "- TensorFlow\n",
    "- Keras"
   ]
  },
  {
   "cell_type": "markdown",
   "id": "020f3da1-903a-4122-bd4a-43a77c2d22df",
   "metadata": {},
   "source": [
    "### Table of Data Science tools\n",
    "\n",
    "| Tool        | Description                                      |\n",
    "|-------------|--------------------------------------------------|\n",
    "| Jupyter     | An interactive environment for Python notebooks |\n",
    "| VS Code     | A source code editor with many extensions        |\n",
    "| Tableau     | A visualization tool for business intelligence   |\n",
    "| Power BI    | A business analytics tool by Microsoft           |\n",
    "| GitHub      | A platform for version control and collaboration |"
   ]
  },
  {
   "cell_type": "markdown",
   "id": "ccbba4aa-268a-4b4c-8acd-80cb56edb626",
   "metadata": {},
   "source": [
    "### Arithmetic expression examples\n",
    "\n",
    "In this section, we will explore simple arithmetic operations like, \n",
    "- addition\n",
    "- subtraction\n",
    "- multiplication\n",
    "- division\n"
   ]
  },
  {
   "cell_type": "code",
   "execution_count": null,
   "id": "4fbe6f7b-dacf-47b9-84f2-d31a65ce0f6e",
   "metadata": {},
   "outputs": [],
   "source": [
    "# Multiplying and adding numbers\n",
    "num1 = 5\n",
    "num2 = 3\n",
    "\n",
    "# Multiply\n",
    "\n",
    "product = num1 * num2\n",
    "\n",
    "# Add\n",
    "sum_result = num1 + num2\n",
    "\n",
    "product, sum_result\n",
    "\n",
    "# Just Numbers\n",
    "5 + 3\n",
    "5 * 3"
   ]
  },
  {
   "cell_type": "code",
   "execution_count": 21,
   "id": "0ef1667f-1cbd-4767-80d9-7838cb887a5b",
   "metadata": {},
   "outputs": [
    {
     "data": {
      "text/plain": [
       "2.5"
      ]
     },
     "execution_count": 21,
     "metadata": {},
     "output_type": "execute_result"
    }
   ],
   "source": [
    "# Function to convert minutes to hours\n",
    "def convert_minutes_to_hours(minutes):\n",
    "    hours = minutes / 60\n",
    "    return hours\n",
    "\n",
    "# Example\n",
    "convert_minutes_to_hours(150)"
   ]
  },
  {
   "cell_type": "markdown",
   "id": "7ddf1a9a-b5c8-4e69-8d87-5f1af2e59c51",
   "metadata": {},
   "source": [
    "## Objectives\n",
    "\n",
    "- Learn and demonstrate the use of data science programming languages.\n",
    "- Understand key data science libraries and tools.\n",
    "- Implement basic arithmetic and data conversion in Python.\n",
    "- Showcase practical knowledge in data science tasks."
   ]
  },
  {
   "cell_type": "code",
   "execution_count": null,
   "id": "4e8dded8-5ca2-49b0-a64f-21ce8a5c87d4",
   "metadata": {},
   "outputs": [],
   "source": [
    "## Author\n",
    "\n",
    "This project was completed by Dr. Igor."
   ]
  }
 ],
 "metadata": {
  "kernelspec": {
   "display_name": "Python 3 (ipykernel)",
   "language": "python",
   "name": "python3"
  },
  "language_info": {
   "codemirror_mode": {
    "name": "ipython",
    "version": 3
   },
   "file_extension": ".py",
   "mimetype": "text/x-python",
   "name": "python",
   "nbconvert_exporter": "python",
   "pygments_lexer": "ipython3",
   "version": "3.12.4"
  }
 },
 "nbformat": 4,
 "nbformat_minor": 5
}
